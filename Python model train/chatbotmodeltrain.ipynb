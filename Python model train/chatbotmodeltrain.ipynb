{
 "cells": [
  {
   "cell_type": "code",
   "execution_count": 1,
   "id": "be37aeaa-cea8-4d0c-9a3e-0b9d05dab577",
   "metadata": {},
   "outputs": [],
   "source": [
    "import pandas as pd\n",
    "df = pd.read_csv(r\"C:\\Users\\ADMIN\\OneDrive\\miniproject\\model_dataset.csv\")"
   ]
  },
  {
   "cell_type": "code",
   "execution_count": 2,
   "id": "852d7904-c1a9-49f0-855e-345f7316cdeb",
   "metadata": {},
   "outputs": [
    {
     "data": {
      "text/html": [
       "<div>\n",
       "<style scoped>\n",
       "    .dataframe tbody tr th:only-of-type {\n",
       "        vertical-align: middle;\n",
       "    }\n",
       "\n",
       "    .dataframe tbody tr th {\n",
       "        vertical-align: top;\n",
       "    }\n",
       "\n",
       "    .dataframe thead th {\n",
       "        text-align: right;\n",
       "    }\n",
       "</style>\n",
       "<table border=\"1\" class=\"dataframe\">\n",
       "  <thead>\n",
       "    <tr style=\"text-align: right;\">\n",
       "      <th></th>\n",
       "      <th>AGGR\\nMARK</th>\n",
       "      <th>RANK</th>\n",
       "      <th>COMMUNI\\nTY</th>\n",
       "      <th>COLLEGE\\nCODE</th>\n",
       "      <th>BRANCH\\nCODE</th>\n",
       "      <th>ALLOTTED\\nCATEGORY</th>\n",
       "    </tr>\n",
       "  </thead>\n",
       "  <tbody>\n",
       "    <tr>\n",
       "      <th>count</th>\n",
       "      <td>14475</td>\n",
       "      <td>14475</td>\n",
       "      <td>14475</td>\n",
       "      <td>14475</td>\n",
       "      <td>14475</td>\n",
       "      <td>14475</td>\n",
       "    </tr>\n",
       "    <tr>\n",
       "      <th>unique</th>\n",
       "      <td>454</td>\n",
       "      <td>14206</td>\n",
       "      <td>8</td>\n",
       "      <td>249</td>\n",
       "      <td>86</td>\n",
       "      <td>8</td>\n",
       "    </tr>\n",
       "    <tr>\n",
       "      <th>top</th>\n",
       "      <td>179.5</td>\n",
       "      <td>RANK</td>\n",
       "      <td>BC</td>\n",
       "      <td>1</td>\n",
       "      <td>CS</td>\n",
       "      <td>OC</td>\n",
       "    </tr>\n",
       "    <tr>\n",
       "      <th>freq</th>\n",
       "      <td>418</td>\n",
       "      <td>270</td>\n",
       "      <td>8773</td>\n",
       "      <td>839</td>\n",
       "      <td>3669</td>\n",
       "      <td>7426</td>\n",
       "    </tr>\n",
       "  </tbody>\n",
       "</table>\n",
       "</div>"
      ],
      "text/plain": [
       "       AGGR\\nMARK   RANK COMMUNI\\nTY COLLEGE\\nCODE BRANCH\\nCODE  \\\n",
       "count       14475  14475       14475         14475        14475   \n",
       "unique        454  14206           8           249           86   \n",
       "top         179.5   RANK          BC             1           CS   \n",
       "freq          418    270        8773           839         3669   \n",
       "\n",
       "       ALLOTTED\\nCATEGORY  \n",
       "count               14475  \n",
       "unique                  8  \n",
       "top                    OC  \n",
       "freq                 7426  "
      ]
     },
     "execution_count": 2,
     "metadata": {},
     "output_type": "execute_result"
    }
   ],
   "source": [
    "df.describe()"
   ]
  },
  {
   "cell_type": "code",
   "execution_count": 3,
   "id": "79d02e64-762c-48f4-8ff8-dc3b25c2217f",
   "metadata": {},
   "outputs": [],
   "source": [
    "df=df.drop(columns=['ALLOTTED\\nCATEGORY'])\n",
    "df=df.drop(columns=['RANK'])"
   ]
  },
  {
   "cell_type": "code",
   "execution_count": 4,
   "id": "c7a2a9aa-a57a-4237-bef1-dcdd63a43ab5",
   "metadata": {},
   "outputs": [
    {
     "data": {
      "text/html": [
       "<div>\n",
       "<style scoped>\n",
       "    .dataframe tbody tr th:only-of-type {\n",
       "        vertical-align: middle;\n",
       "    }\n",
       "\n",
       "    .dataframe tbody tr th {\n",
       "        vertical-align: top;\n",
       "    }\n",
       "\n",
       "    .dataframe thead th {\n",
       "        text-align: right;\n",
       "    }\n",
       "</style>\n",
       "<table border=\"1\" class=\"dataframe\">\n",
       "  <thead>\n",
       "    <tr style=\"text-align: right;\">\n",
       "      <th></th>\n",
       "      <th>AGGR\\nMARK</th>\n",
       "      <th>COMMUNI\\nTY</th>\n",
       "      <th>COLLEGE\\nCODE</th>\n",
       "      <th>BRANCH\\nCODE</th>\n",
       "    </tr>\n",
       "  </thead>\n",
       "  <tbody>\n",
       "    <tr>\n",
       "      <th>count</th>\n",
       "      <td>14475</td>\n",
       "      <td>14475</td>\n",
       "      <td>14475</td>\n",
       "      <td>14475</td>\n",
       "    </tr>\n",
       "    <tr>\n",
       "      <th>unique</th>\n",
       "      <td>454</td>\n",
       "      <td>8</td>\n",
       "      <td>249</td>\n",
       "      <td>86</td>\n",
       "    </tr>\n",
       "    <tr>\n",
       "      <th>top</th>\n",
       "      <td>179.5</td>\n",
       "      <td>BC</td>\n",
       "      <td>1</td>\n",
       "      <td>CS</td>\n",
       "    </tr>\n",
       "    <tr>\n",
       "      <th>freq</th>\n",
       "      <td>418</td>\n",
       "      <td>8773</td>\n",
       "      <td>839</td>\n",
       "      <td>3669</td>\n",
       "    </tr>\n",
       "  </tbody>\n",
       "</table>\n",
       "</div>"
      ],
      "text/plain": [
       "       AGGR\\nMARK COMMUNI\\nTY COLLEGE\\nCODE BRANCH\\nCODE\n",
       "count       14475       14475         14475        14475\n",
       "unique        454           8           249           86\n",
       "top         179.5          BC             1           CS\n",
       "freq          418        8773           839         3669"
      ]
     },
     "execution_count": 4,
     "metadata": {},
     "output_type": "execute_result"
    }
   ],
   "source": [
    "df.describe()"
   ]
  },
  {
   "cell_type": "code",
   "execution_count": 8,
   "id": "b2e00819-15c8-486b-9b8f-818654babcdf",
   "metadata": {},
   "outputs": [
    {
     "data": {
      "text/plain": [
       "array(['BC', 'BCM', 'MBC', 'OC', 'SC', 'SCA', 'COMMUNI\\nTY', 'ST'],\n",
       "      dtype=object)"
      ]
     },
     "execution_count": 8,
     "metadata": {},
     "output_type": "execute_result"
    }
   ],
   "source": [
    "df=df.dropna()\n",
    "df['COMMUNI\\nTY'].unique()"
   ]
  },
  {
   "cell_type": "code",
   "execution_count": 10,
   "id": "707f7190-008d-4abc-90d9-cf2ae078344f",
   "metadata": {},
   "outputs": [
    {
     "data": {
      "text/plain": [
       "array(['BC', 'BCM', 'MBC', 'OC', 'SC', 'SCA', '', 'ST'], dtype=object)"
      ]
     },
     "execution_count": 10,
     "metadata": {},
     "output_type": "execute_result"
    }
   ],
   "source": [
    "word_to_delete = 'COMMUNI\\nTY'\n",
    "df['COMMUNI\\nTY'] = df['COMMUNI\\nTY'].str.replace(word_to_delete, '')\n",
    "df['COMMUNI\\nTY'].unique()"
   ]
  },
  {
   "cell_type": "code",
   "execution_count": 12,
   "id": "d7adfa46-9a27-42b6-bc02-a6ecaaf5cbe6",
   "metadata": {},
   "outputs": [
    {
     "data": {
      "text/plain": [
       "array(['BC', 'BCM', 'MBC', 'OC', 'SC', 'SCA', <NA>, 'ST'], dtype=object)"
      ]
     },
     "execution_count": 12,
     "metadata": {},
     "output_type": "execute_result"
    }
   ],
   "source": [
    "df.replace('', pd.NA, inplace=True)\n",
    "df['COMMUNI\\nTY'].unique()"
   ]
  },
  {
   "cell_type": "code",
   "execution_count": 15,
   "id": "2f7e02d8-eb29-45d9-967a-b865cd515b58",
   "metadata": {},
   "outputs": [
    {
     "data": {
      "text/plain": [
       "array(['BC', 'BCM', 'MBC', 'OC', 'SC', 'SCA', 'ST'], dtype=object)"
      ]
     },
     "execution_count": 15,
     "metadata": {},
     "output_type": "execute_result"
    }
   ],
   "source": [
    "df=df.dropna()\n",
    "df['COMMUNI\\nTY'].unique()"
   ]
  },
  {
   "cell_type": "code",
   "execution_count": 18,
   "id": "b64bfadc-7b6b-4a8a-84e3-0e79d2983ba3",
   "metadata": {},
   "outputs": [
    {
     "data": {
      "text/plain": [
       "array(['1', '1315', '2006', '5008', '4', '2', '2731', '1399', '2653',\n",
       "       '4962', '2708', '2377', '2007', '2710', '5022', '2712', '1414',\n",
       "       '2764', '2005', '5012', '1504', '2650', '2615', '2618', '2630',\n",
       "       '3701', '3805', '1450', '1219', '2711', '4974', '1211', '1405',\n",
       "       '5910', '2751', '2718', '1216', '1309', '1432', '2702', '2025',\n",
       "       '1113', '5907', '2739', '1398', '1419', '1324', '5912', '4960',\n",
       "       '5', '1317', '4971', '5986', '4686', '1311', '4980', '3011',\n",
       "       '2740', '2302', '4955', '2704', '5901', '2715', '1422', '2707',\n",
       "       '3016', '1412', '1210', '4023', '2656', '4864', '1516', '2607',\n",
       "       '4959', '4981', '5530', '2345', '2722', '2736', '2643', '2613',\n",
       "       '3826', '2609', '2706', '3819', '2621', '2608', '2721', '1026',\n",
       "       '1411', '5009', '2727', '3465', '4972', '4678', '1013', '2709',\n",
       "       '4917', '5842', '2603', '2329', '1304', '2723', '1116', '4944',\n",
       "       '3', '4020', '2601', '1408', '3830', '4680', '1137', '3464',\n",
       "       '1434', '3825', '5010', '1014', '2646', '2734', '2726', '2622',\n",
       "       '1303', '2719', '3807', '3806', '2661', '1112', '2750', '5919',\n",
       "       '1122', '1322', '4670', '4933', '5865', '3786', '1120', '1149',\n",
       "       '1316', '3019', '4672', '4954', '1409', '3801', '1306', '3425',\n",
       "       '2745', '2620', '2776', '3843', '1118', '1321', '1140', '2735',\n",
       "       '3454', '5862', '4984', '1310', '2328', '1430', '5536', '1225',\n",
       "       '1121', '2743', '4949', '2725', '1110', '4969', '1442', '5921',\n",
       "       '1128', '1605', '2611', '3852', '4994', '5904', '3795', '2762',\n",
       "       '4928', '1237', '5703', '2737', '2343', '1114', '3829', '1520',\n",
       "       '3466', '2639', '1307', '2624', '2369', '5942', '3850', '4931',\n",
       "       '2636', '4966', '1424', '2683', '4983', '2729', '2752', '2716',\n",
       "       '1401', '2713', '4996', '2634', '3812', '2741', '3804', '2651',\n",
       "       '2610', '5914', '5017', '3803', '4669', '3920', '1126', '5502',\n",
       "       '2632', '1101', '2761', '4964', '1207', '3918', '2673', '4957',\n",
       "       '1501', '2354', '1217', '1202', '1226', '2623', '4965', '2347',\n",
       "       '1228', '3456', '3817', '2367', '1423', '4946', '2617', '1507',\n",
       "       '3021', '1431', '2758', '2633', '4676', '1509', '2625'],\n",
       "      dtype=object)"
      ]
     },
     "execution_count": 18,
     "metadata": {},
     "output_type": "execute_result"
    }
   ],
   "source": [
    "df['COLLEGE\\nCODE'].unique()"
   ]
  },
  {
   "cell_type": "code",
   "execution_count": 20,
   "id": "25a8b16f-8b64-462b-b40b-bb70966b92b5",
   "metadata": {},
   "outputs": [
    {
     "data": {
      "text/plain": [
       "array(['CS', 'EC', 'CM', 'ME', 'EE', 'IT', 'IM', 'AT', 'RA', 'CH', 'EM',\n",
       "       'AD', 'AL', 'CG', 'CE', 'AE', 'BY', 'EI', 'CJ', 'CC', 'GI', 'IB',\n",
       "       'IY', 'IE', 'AM', 'EA', 'SC', 'CW', 'CB', 'ES', 'BS', 'AO', 'MG',\n",
       "       'BT', 'FS', 'AU', 'FY', 'BM', 'XM', 'EY', 'PR', 'MI', 'AG', 'MN',\n",
       "       'AS', 'CL', 'CF', 'PM', 'PP', 'CD', 'XC', 'TX', 'MF', 'MA', 'EV',\n",
       "       'PT', 'BP', 'CO', 'MT', 'CI', 'MZ', 'CY', 'FT', 'MS', 'CN', 'RP',\n",
       "       'FD', 'IC', 'IS', 'MU', 'RM', 'ET', 'CR', 'HT', 'PN', 'MY', 'SE',\n",
       "       'CT', 'PA', 'AP', 'LE', 'TS', 'TT', 'MD', 'SB'], dtype=object)"
      ]
     },
     "execution_count": 20,
     "metadata": {},
     "output_type": "execute_result"
    }
   ],
   "source": [
    "df['BRANCH\\nCODE'].unique()"
   ]
  },
  {
   "cell_type": "code",
   "execution_count": 21,
   "id": "8f53212d-cf93-4e86-91df-610b0ae188c3",
   "metadata": {},
   "outputs": [
    {
     "data": {
      "text/plain": [
       "array(['200', '199.667', '199.5', '199.333', '199', '198.667', '198.5',\n",
       "       '198.333', '198', '197.75', '197.667', '197.5', '197.495',\n",
       "       '197.333', '197', '196.975', '196.75', '196.667', '196.5',\n",
       "       '196.49', '196.46', '196.333', '196.275', '196.25', '196',\n",
       "       '195.98', '195.667', '195.54', '195.5', '195.48', '195.46',\n",
       "       '195.42', '195.333', '195.32', '195.295', '195', '194.667',\n",
       "       '194.5', '194.46', '194.405', '194.333', '194.315', '194.3',\n",
       "       '194.23', '194', '193.8', '193.667', '193.5', '193.49', '193.475',\n",
       "       '193.333', '193.26', '193.24', '193', '192.975', '192.75',\n",
       "       '192.667', '192.5', '192.475', '192.46', '192.449', '192.365',\n",
       "       '192.35', '192.333', '192.265', '192.25', '192.24', '192.175',\n",
       "       '192.15', '192.075', '192.03', '192', '191.97', '191.845',\n",
       "       '191.76', '191.667', '191.5', '191.36', '191.333', '191.33',\n",
       "       '191.265', '191.21', '191.18', '191.14', '191', '190.99', '190.97',\n",
       "       '190.949', '190.939', '190.934', '190.835', '190.75', '190.67',\n",
       "       '190.667', '190.64', '190.5', '190.44', '190.405', '190.155',\n",
       "       '190.1', '190.075', '190.06', '190.02', '190', '189.965',\n",
       "       '189.929', '189.905', '189.9', '189.875', '189.855', '189.67',\n",
       "       '189.667', '189.645', '189.525', '189.5', '189.475', '189.455',\n",
       "       '189.3', '189.185', '189.12', '189.09', '189.035', '189',\n",
       "       '188.955', '188.949', '188.91', '188.845', '188.715', '188.667',\n",
       "       '188.635', '188.625', '188.53', '188.525', '188.5', '188.485',\n",
       "       '188.46', '188.395', '188.37', '188.355', '188.333', '188.15',\n",
       "       '188.045', '188.035', '188', '187.99', '187.934', '187.93',\n",
       "       '187.929', '187.92', '187.89', '187.76', '187.75', '187.705',\n",
       "       '187.667', '187.65', '187.615', '187.605', '187.58', '187.52',\n",
       "       '187.51', '187.5', '187.46', '187.43', '187.395', '187.35',\n",
       "       '187.34', '187.333', '187.25', '187.21', '187.135', '187.025',\n",
       "       '187.01', '187', '186.935', '186.919', '186.91', '186.885',\n",
       "       '186.86', '186.82', '186.81', '186.79', '186.715', '186.645',\n",
       "       '186.605', '186.6', '186.585', '186.525', '186.5', '186.495',\n",
       "       '186.48', '186.45', '186.405', '186.39', '186.385', '186.35',\n",
       "       '186.33', '186.325', '186.285', '186.175', '186.055', '186.045',\n",
       "       '186.035', '186', '185.955', '185.935', '185.91', '185.89',\n",
       "       '185.86', '185.855', '185.75', '185.68', '185.667', '185.5',\n",
       "       '185.495', '185.475', '185.449', '185.425', '185.419', '185.32',\n",
       "       '185.295', '185.23', '185.205', '185.13', '185.1', '185.085',\n",
       "       '185.055', '185.045', '185', '184.935', '184.92', '184.91',\n",
       "       '184.89', '184.855', '184.815', '184.76', '184.735', '184.69',\n",
       "       '184.667', '184.615', '184.545', '184.505', '184.5', '184.475',\n",
       "       '184.42', '184.385', '184.38', '184.36', '184.333', '184.315',\n",
       "       '184.305', '184.27', '184.215', '184.205', '184.185', '184.155',\n",
       "       '184.135', '184.12', '184.065', '184.04', '184.03', '184.01',\n",
       "       '184', '183.965', '183.955', '183.949', '183.929', '183.925',\n",
       "       '183.865', '183.86', '183.805', '183.76', '183.755', '183.715',\n",
       "       '183.695', '183.68', '183.667', '183.665', '183.635', '183.54',\n",
       "       '183.52', '183.5', '183.49', '183.47', '183.42', '183.395',\n",
       "       '183.333', '183.305', '183.285', '183.25', '183.14', '183.1',\n",
       "       '183.065', '183.055', '183.03', '183', '182.98', '182.965',\n",
       "       '182.909', '182.89', '182.865', '182.81', '182.745', '182.615',\n",
       "       '182.535', '182.525', '182.505', '182.5', '182.44', '182.35',\n",
       "       '182.33', '182.31', '182.24', '182.15', '182.13', '182.11',\n",
       "       '182.095', '182', '181.985', '181.975', '181.955', '181.9',\n",
       "       '181.89', '181.825', '181.8', '181.78', '181.755', '181.7',\n",
       "       '181.667', '181.635', '181.605', '181.53', '181.525', '181.5',\n",
       "       '181.434', '181.333', '181.33', '181.32', '181.285', '181.265',\n",
       "       '181.25', '181.22', '181.205', '181.155', '181.12', '181.08',\n",
       "       '181.045', '181.035', '181', '180.91', '180.904', '180.9',\n",
       "       '180.845', '180.835', '180.79', '180.78', '180.667', '180.635',\n",
       "       '180.605', '180.53', '180.5', '180.495', '180.43', '180.369',\n",
       "       '180.35', '180.32', '180.22', '180.195', '180.1', '180.095',\n",
       "       '180.065', '180.01', '180', '179.92', '179.89', '179.869',\n",
       "       '179.845', '179.83', '179.81', '179.78', '179.745', '179.585',\n",
       "       '179.54', '179.5', '179.475', '179.47', '179.405', '179.395',\n",
       "       '179.333', '179.27', '179.265', '179.185', '179.15', '179.13',\n",
       "       '179.08', '179.075', '179', '178.975', '178.904', '178.9',\n",
       "       '178.875', '178.86', '178.845', '178.81', '178.77', '178.725',\n",
       "       '178.715', '178.65', '178.635', '178.61', '178.6', '178.545',\n",
       "       '178.53', '178.5', '178.49', '178.485', '178.455', '178.44',\n",
       "       '178.43', '178.333', '178.32', '178.26', '178.25', '178.22',\n",
       "       '178.155', '178.13', '178.1', '178.065', '178.02', '178', '177.98',\n",
       "       '177.935', '177.904', '177.835', '177.82', '177.795', '177.615',\n",
       "       '177.585', '177.565', '177.535', '177.5', '177.47', '177.439',\n",
       "       '177.415', '177.35', '177.32', '177.27', '177.25', '177.24',\n",
       "       '177.13', '177.065', '177.04', '177.01', '177'], dtype=object)"
      ]
     },
     "execution_count": 21,
     "metadata": {},
     "output_type": "execute_result"
    }
   ],
   "source": [
    "df['AGGR\\nMARK'].unique()"
   ]
  },
  {
   "cell_type": "code",
   "execution_count": 22,
   "id": "ed3f34a0-35f6-429f-af11-2d5fcea50996",
   "metadata": {},
   "outputs": [],
   "source": [
    "from sklearn.preprocessing import LabelEncoder"
   ]
  },
  {
   "cell_type": "code",
   "execution_count": 54,
   "id": "32b2e13a-d012-464d-a7ea-f3d15d5311e6",
   "metadata": {},
   "outputs": [],
   "source": [
    "le = LabelEncoder()\n",
    "df['COMMUNI\\nTY'] = le.fit_transform(df['COMMUNI\\nTY'])\n",
    "community_encoder = le"
   ]
  },
  {
   "cell_type": "code",
   "execution_count": 24,
   "id": "121b8c29-0217-4b10-be84-fdd73aabd8e0",
   "metadata": {},
   "outputs": [
    {
     "data": {
      "text/html": [
       "<div>\n",
       "<style scoped>\n",
       "    .dataframe tbody tr th:only-of-type {\n",
       "        vertical-align: middle;\n",
       "    }\n",
       "\n",
       "    .dataframe tbody tr th {\n",
       "        vertical-align: top;\n",
       "    }\n",
       "\n",
       "    .dataframe thead th {\n",
       "        text-align: right;\n",
       "    }\n",
       "</style>\n",
       "<table border=\"1\" class=\"dataframe\">\n",
       "  <thead>\n",
       "    <tr style=\"text-align: right;\">\n",
       "      <th></th>\n",
       "      <th>AGGR\\nMARK</th>\n",
       "      <th>COMMUNI\\nTY</th>\n",
       "      <th>COLLEGE\\nCODE</th>\n",
       "      <th>BRANCH\\nCODE</th>\n",
       "    </tr>\n",
       "  </thead>\n",
       "  <tbody>\n",
       "    <tr>\n",
       "      <th>0</th>\n",
       "      <td>200</td>\n",
       "      <td>0</td>\n",
       "      <td>1</td>\n",
       "      <td>CS</td>\n",
       "    </tr>\n",
       "    <tr>\n",
       "      <th>1</th>\n",
       "      <td>200</td>\n",
       "      <td>0</td>\n",
       "      <td>1</td>\n",
       "      <td>CS</td>\n",
       "    </tr>\n",
       "    <tr>\n",
       "      <th>2</th>\n",
       "      <td>200</td>\n",
       "      <td>1</td>\n",
       "      <td>1</td>\n",
       "      <td>CS</td>\n",
       "    </tr>\n",
       "    <tr>\n",
       "      <th>3</th>\n",
       "      <td>200</td>\n",
       "      <td>0</td>\n",
       "      <td>1</td>\n",
       "      <td>CS</td>\n",
       "    </tr>\n",
       "    <tr>\n",
       "      <th>4</th>\n",
       "      <td>200</td>\n",
       "      <td>0</td>\n",
       "      <td>1</td>\n",
       "      <td>CS</td>\n",
       "    </tr>\n",
       "  </tbody>\n",
       "</table>\n",
       "</div>"
      ],
      "text/plain": [
       "  AGGR\\nMARK  COMMUNI\\nTY COLLEGE\\nCODE BRANCH\\nCODE\n",
       "0        200            0             1           CS\n",
       "1        200            0             1           CS\n",
       "2        200            1             1           CS\n",
       "3        200            0             1           CS\n",
       "4        200            0             1           CS"
      ]
     },
     "execution_count": 24,
     "metadata": {},
     "output_type": "execute_result"
    }
   ],
   "source": [
    "df.head()"
   ]
  },
  {
   "cell_type": "code",
   "execution_count": 25,
   "id": "63de987c-6dec-4f58-8bfa-243f1e5969ba",
   "metadata": {},
   "outputs": [],
   "source": [
    "X = df[['AGGR\\nMARK', 'COMMUNI\\nTY']]\n",
    "y = df[['COLLEGE\\nCODE', 'BRANCH\\nCODE']]"
   ]
  },
  {
   "cell_type": "code",
   "execution_count": 26,
   "id": "100f6ee0-15ec-4816-b79c-c4b9fde41c91",
   "metadata": {},
   "outputs": [],
   "source": [
    "from sklearn.model_selection import train_test_split"
   ]
  },
  {
   "cell_type": "code",
   "execution_count": 27,
   "id": "ef830cf4-f56c-49e4-83c5-428c312f7939",
   "metadata": {},
   "outputs": [],
   "source": [
    "X_train, X_test, y_train, y_test = train_test_split(X, y, test_size=0.2, random_state=42)"
   ]
  },
  {
   "cell_type": "code",
   "execution_count": 28,
   "id": "a29aa791-8558-4b97-8045-a5d61914b469",
   "metadata": {},
   "outputs": [],
   "source": [
    "from sklearn.ensemble import RandomForestClassifier"
   ]
  },
  {
   "cell_type": "code",
   "execution_count": 29,
   "id": "d7a5a4ad-6423-4e2a-bdbe-e69581f5a16e",
   "metadata": {},
   "outputs": [],
   "source": [
    "rf_classifier = RandomForestClassifier(n_estimators=100, random_state=42)"
   ]
  },
  {
   "cell_type": "code",
   "execution_count": 30,
   "id": "0255a2c2-f86f-46de-b291-087edfc1e73a",
   "metadata": {},
   "outputs": [
    {
     "data": {
      "text/html": [
       "<style>#sk-container-id-1 {color: black;}#sk-container-id-1 pre{padding: 0;}#sk-container-id-1 div.sk-toggleable {background-color: white;}#sk-container-id-1 label.sk-toggleable__label {cursor: pointer;display: block;width: 100%;margin-bottom: 0;padding: 0.3em;box-sizing: border-box;text-align: center;}#sk-container-id-1 label.sk-toggleable__label-arrow:before {content: \"▸\";float: left;margin-right: 0.25em;color: #696969;}#sk-container-id-1 label.sk-toggleable__label-arrow:hover:before {color: black;}#sk-container-id-1 div.sk-estimator:hover label.sk-toggleable__label-arrow:before {color: black;}#sk-container-id-1 div.sk-toggleable__content {max-height: 0;max-width: 0;overflow: hidden;text-align: left;background-color: #f0f8ff;}#sk-container-id-1 div.sk-toggleable__content pre {margin: 0.2em;color: black;border-radius: 0.25em;background-color: #f0f8ff;}#sk-container-id-1 input.sk-toggleable__control:checked~div.sk-toggleable__content {max-height: 200px;max-width: 100%;overflow: auto;}#sk-container-id-1 input.sk-toggleable__control:checked~label.sk-toggleable__label-arrow:before {content: \"▾\";}#sk-container-id-1 div.sk-estimator input.sk-toggleable__control:checked~label.sk-toggleable__label {background-color: #d4ebff;}#sk-container-id-1 div.sk-label input.sk-toggleable__control:checked~label.sk-toggleable__label {background-color: #d4ebff;}#sk-container-id-1 input.sk-hidden--visually {border: 0;clip: rect(1px 1px 1px 1px);clip: rect(1px, 1px, 1px, 1px);height: 1px;margin: -1px;overflow: hidden;padding: 0;position: absolute;width: 1px;}#sk-container-id-1 div.sk-estimator {font-family: monospace;background-color: #f0f8ff;border: 1px dotted black;border-radius: 0.25em;box-sizing: border-box;margin-bottom: 0.5em;}#sk-container-id-1 div.sk-estimator:hover {background-color: #d4ebff;}#sk-container-id-1 div.sk-parallel-item::after {content: \"\";width: 100%;border-bottom: 1px solid gray;flex-grow: 1;}#sk-container-id-1 div.sk-label:hover label.sk-toggleable__label {background-color: #d4ebff;}#sk-container-id-1 div.sk-serial::before {content: \"\";position: absolute;border-left: 1px solid gray;box-sizing: border-box;top: 0;bottom: 0;left: 50%;z-index: 0;}#sk-container-id-1 div.sk-serial {display: flex;flex-direction: column;align-items: center;background-color: white;padding-right: 0.2em;padding-left: 0.2em;position: relative;}#sk-container-id-1 div.sk-item {position: relative;z-index: 1;}#sk-container-id-1 div.sk-parallel {display: flex;align-items: stretch;justify-content: center;background-color: white;position: relative;}#sk-container-id-1 div.sk-item::before, #sk-container-id-1 div.sk-parallel-item::before {content: \"\";position: absolute;border-left: 1px solid gray;box-sizing: border-box;top: 0;bottom: 0;left: 50%;z-index: -1;}#sk-container-id-1 div.sk-parallel-item {display: flex;flex-direction: column;z-index: 1;position: relative;background-color: white;}#sk-container-id-1 div.sk-parallel-item:first-child::after {align-self: flex-end;width: 50%;}#sk-container-id-1 div.sk-parallel-item:last-child::after {align-self: flex-start;width: 50%;}#sk-container-id-1 div.sk-parallel-item:only-child::after {width: 0;}#sk-container-id-1 div.sk-dashed-wrapped {border: 1px dashed gray;margin: 0 0.4em 0.5em 0.4em;box-sizing: border-box;padding-bottom: 0.4em;background-color: white;}#sk-container-id-1 div.sk-label label {font-family: monospace;font-weight: bold;display: inline-block;line-height: 1.2em;}#sk-container-id-1 div.sk-label-container {text-align: center;}#sk-container-id-1 div.sk-container {/* jupyter's `normalize.less` sets `[hidden] { display: none; }` but bootstrap.min.css set `[hidden] { display: none !important; }` so we also need the `!important` here to be able to override the default hidden behavior on the sphinx rendered scikit-learn.org. See: https://github.com/scikit-learn/scikit-learn/issues/21755 */display: inline-block !important;position: relative;}#sk-container-id-1 div.sk-text-repr-fallback {display: none;}</style><div id=\"sk-container-id-1\" class=\"sk-top-container\"><div class=\"sk-text-repr-fallback\"><pre>RandomForestClassifier(random_state=42)</pre><b>In a Jupyter environment, please rerun this cell to show the HTML representation or trust the notebook. <br />On GitHub, the HTML representation is unable to render, please try loading this page with nbviewer.org.</b></div><div class=\"sk-container\" hidden><div class=\"sk-item\"><div class=\"sk-estimator sk-toggleable\"><input class=\"sk-toggleable__control sk-hidden--visually\" id=\"sk-estimator-id-1\" type=\"checkbox\" checked><label for=\"sk-estimator-id-1\" class=\"sk-toggleable__label sk-toggleable__label-arrow\">RandomForestClassifier</label><div class=\"sk-toggleable__content\"><pre>RandomForestClassifier(random_state=42)</pre></div></div></div></div></div>"
      ],
      "text/plain": [
       "RandomForestClassifier(random_state=42)"
      ]
     },
     "execution_count": 30,
     "metadata": {},
     "output_type": "execute_result"
    }
   ],
   "source": [
    "rf_classifier.fit(X_train, y_train)"
   ]
  },
  {
   "cell_type": "code",
   "execution_count": 35,
   "id": "7e7b035b-0145-40c3-9b16-3c87c7e309b1",
   "metadata": {},
   "outputs": [
    {
     "name": "stdout",
     "output_type": "stream",
     "text": [
      "Accuracy for College Code: 0.11122844068989793\n",
      "Accuracy for Branch Code: 0.2541358676522351\n"
     ]
    }
   ],
   "source": [
    "from sklearn.metrics import accuracy_score\n",
    "\n",
    "# Compute accuracy for 'COLLEGE CODE'\n",
    "accuracy_college_code = accuracy_score(y_test['COLLEGE\\nCODE'], y_pred[:, 0])\n",
    "\n",
    "# Compute accuracy for 'BRANCH CODE'\n",
    "accuracy_branch_code = accuracy_score(y_test['BRANCH\\nCODE'], y_pred[:, 1])\n",
    "\n",
    "print(\"Accuracy for College Code:\", accuracy_college_code)\n",
    "print(\"Accuracy for Branch Code:\", accuracy_branch_code)"
   ]
  },
  {
   "cell_type": "code",
   "execution_count": 60,
   "id": "10d33120-148b-41ae-87d6-66578af283a7",
   "metadata": {},
   "outputs": [],
   "source": [
    "y_pred = rf_classifier.predict(X_test)\n"
   ]
  },
  {
   "cell_type": "code",
   "execution_count": 58,
   "id": "e059d4de-4e59-4c82-88ad-1508b03bd567",
   "metadata": {},
   "outputs": [
    {
     "data": {
      "text/plain": [
       "array([['2722', 'CS'],\n",
       "       ['5008', 'CS'],\n",
       "       ['2722', 'CS'],\n",
       "       ...,\n",
       "       ['1399', 'CS'],\n",
       "       ['1399', 'CS'],\n",
       "       ['1315', 'CS']], dtype=object)"
      ]
     },
     "execution_count": 58,
     "metadata": {},
     "output_type": "execute_result"
    }
   ],
   "source": [
    "y_pred"
   ]
  },
  {
   "cell_type": "code",
   "execution_count": 62,
   "id": "8a341e67-e12a-4437-bbbe-3a77ecafbc20",
   "metadata": {},
   "outputs": [
    {
     "name": "stdout",
     "output_type": "stream",
     "text": [
      "Input Features (X):\n",
      "AGGR\\nMARK     177\n",
      "COMMUNI\\nTY      0\n",
      "Name: 14361, dtype: object\n",
      "\n",
      "Predicted Output (y_pred):\n",
      "['2722' 'CS']\n"
     ]
    }
   ],
   "source": [
    "# Example of printing the input features (X) and predicted output (y_pred) for the first data point in the test set\n",
    "# Assuming X_test contains the input features and y_pred contains the predicted output for the test data\n",
    "\n",
    "# Selecting the first data point from X_test and the corresponding predicted output from y_pred\n",
    "single_data_point_X = X_test.iloc[0]\n",
    "single_data_point_y_pred = y_pred[0]\n",
    "\n",
    "print(\"Input Features (X):\")\n",
    "print(single_data_point_X)\n",
    "\n",
    "print(\"\\nPredicted Output (y_pred):\")\n",
    "print(single_data_point_y_pred)\n"
   ]
  },
  {
   "cell_type": "code",
   "execution_count": null,
   "id": "ae0aa79f-9ce6-4694-9452-538294e1b1b0",
   "metadata": {},
   "outputs": [],
   "source": []
  }
 ],
 "metadata": {
  "kernelspec": {
   "display_name": "Python 3 (ipykernel)",
   "language": "python",
   "name": "python3"
  },
  "language_info": {
   "codemirror_mode": {
    "name": "ipython",
    "version": 3
   },
   "file_extension": ".py",
   "mimetype": "text/x-python",
   "name": "python",
   "nbconvert_exporter": "python",
   "pygments_lexer": "ipython3",
   "version": "3.12.0"
  }
 },
 "nbformat": 4,
 "nbformat_minor": 5
}
